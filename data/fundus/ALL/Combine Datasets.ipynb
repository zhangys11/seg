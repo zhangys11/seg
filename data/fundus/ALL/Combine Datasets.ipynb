{
 "cells": [
  {
   "cell_type": "markdown",
   "id": "6f7717e5",
   "metadata": {},
   "source": [
    "# This notebook contains codes to combine the three retina datasets: DRIVE, STARE and CHASE\n",
    "\n",
    "1. Resize all images to the same size.  \n",
    "2. Convert all images to jpg. \n",
    "3. The label / mask images are converted to 1 channel (grayscale) as required by the train.py   "
   ]
  },
  {
   "cell_type": "code",
   "execution_count": 1,
   "id": "0fbcf9fa",
   "metadata": {},
   "outputs": [],
   "source": [
    "import os\n",
    "\n",
    "def get_all_images_in_dir(folder = '../data/fundus/images_public/', target_file = None, excludes = ['_FRCNN','_SSD','_YOLO5']):\n",
    "\n",
    "\t'''\n",
    "\texcludes : will exclude images whose names contains these strings.\n",
    "\t'''\n",
    "\n",
    "\tFILES=[]\t\n",
    "\tcontent = \"\"\n",
    "\n",
    "\tfor root, dirs, files in os.walk(folder):\n",
    "\t\tfor f in files:\n",
    "\t\t\tif( os.path.isfile(os.path.join(root, f)) and (f.endswith('.jpg') or f.endswith('.png') or f.endswith('.ppm') or f.endswith('.gif') or f.endswith('.tif')) ):\n",
    "\t\t\t\tfp =  os.path.join(root, f).replace(\"\\\\\", \"/\") \n",
    "\t\t\t\t\n",
    "\t\t\t\texclude = False\n",
    "\t\t\t\tif excludes is not None and len(excludes) > 0:\n",
    "\t\t\t\t\tfor s in excludes:\n",
    "\t\t\t\t\t\tif s in f:\n",
    "\t\t\t\t\t\t\texclude = True\n",
    "\t\t\t\t\t\t\tbreak\n",
    "\t\t\t\t\n",
    "\t\t\t\tif not exclude:\n",
    "\t\t\t\t\tFILES.append(fp)\n",
    "\t\t\t\t\tcontent = content + fp + \",-1,-1,-1,-1,UNKNOWN\" + \"\\n\" # filename,x1,y1,x2,y2,class_name\n",
    "\n",
    "\tif target_file:\n",
    "\t\tfile = open(target_file, 'w')\n",
    "\t\tfile.write(content)\n",
    "\t\tfile.close()\n",
    "\n",
    "\treturn FILES"
   ]
  },
  {
   "cell_type": "code",
   "execution_count": 2,
   "id": "b3593815",
   "metadata": {},
   "outputs": [
    {
     "data": {
      "text/plain": [
       "176"
      ]
     },
     "execution_count": 2,
     "metadata": {},
     "output_type": "execute_result"
    }
   ],
   "source": [
    "FILES = get_all_images_in_dir(folder = '.')\n",
    "len(FILES)"
   ]
  },
  {
   "cell_type": "code",
   "execution_count": 4,
   "id": "dddbe07c",
   "metadata": {
    "scrolled": false
   },
   "outputs": [
    {
     "ename": "ValueError",
     "evalue": "Could not find a format to read the specified file in multi-image mode",
     "output_type": "error",
     "traceback": [
      "\u001b[1;31m---------------------------------------------------------------------------\u001b[0m",
      "\u001b[1;31mValueError\u001b[0m                                Traceback (most recent call last)",
      "Input \u001b[1;32mIn [4]\u001b[0m, in \u001b[0;36m<cell line: 9>\u001b[1;34m()\u001b[0m\n\u001b[0;32m      9\u001b[0m \u001b[38;5;28;01mfor\u001b[39;00m path \u001b[38;5;129;01min\u001b[39;00m FILES:\n\u001b[0;32m     11\u001b[0m     \u001b[38;5;28;01mif\u001b[39;00m \u001b[38;5;124m'\u001b[39m\u001b[38;5;124m.gif\u001b[39m\u001b[38;5;124m'\u001b[39m \u001b[38;5;129;01min\u001b[39;00m path: \u001b[38;5;66;03m# special treatment for gif. gif is multi-sequence.\u001b[39;00m\n\u001b[1;32m---> 12\u001b[0m         gif \u001b[38;5;241m=\u001b[39m \u001b[43mimageio\u001b[49m\u001b[38;5;241;43m.\u001b[39;49m\u001b[43mmimread\u001b[49m\u001b[43m(\u001b[49m\u001b[43mpath\u001b[49m\u001b[43m)\u001b[49m\n\u001b[0;32m     13\u001b[0m         nums \u001b[38;5;241m=\u001b[39m \u001b[38;5;28mlen\u001b[39m(gif)\n\u001b[0;32m     14\u001b[0m         \u001b[38;5;66;03m# convert form RGB to BGR \u001b[39;00m\n",
      "File \u001b[1;32m~\\anaconda3\\lib\\site-packages\\imageio\\core\\functions.py:354\u001b[0m, in \u001b[0;36mmimread\u001b[1;34m(uri, format, memtest, **kwargs)\u001b[0m\n\u001b[0;32m    315\u001b[0m \u001b[38;5;124;03m\"\"\" mimread(uri, format=None, memtest=\"256MB\", **kwargs)\u001b[39;00m\n\u001b[0;32m    316\u001b[0m \n\u001b[0;32m    317\u001b[0m \u001b[38;5;124;03mReads multiple images from the specified file. Returns a list of\u001b[39;00m\n\u001b[1;32m   (...)\u001b[0m\n\u001b[0;32m    350\u001b[0m \u001b[38;5;124;03m    to see what arguments are available for a particular format.\u001b[39;00m\n\u001b[0;32m    351\u001b[0m \u001b[38;5;124;03m\"\"\"\u001b[39;00m\n\u001b[0;32m    353\u001b[0m \u001b[38;5;66;03m# Get reader\u001b[39;00m\n\u001b[1;32m--> 354\u001b[0m reader \u001b[38;5;241m=\u001b[39m read(uri, \u001b[38;5;28mformat\u001b[39m, \u001b[38;5;124m\"\u001b[39m\u001b[38;5;124mI\u001b[39m\u001b[38;5;124m\"\u001b[39m, \u001b[38;5;241m*\u001b[39m\u001b[38;5;241m*\u001b[39mkwargs)\n\u001b[0;32m    355\u001b[0m nbyte_limit \u001b[38;5;241m=\u001b[39m to_nbytes(memtest, MEMTEST_DEFAULT_MIM)\n\u001b[0;32m    357\u001b[0m \u001b[38;5;66;03m# Read\u001b[39;00m\n",
      "File \u001b[1;32m~\\anaconda3\\lib\\site-packages\\imageio\\core\\functions.py:181\u001b[0m, in \u001b[0;36mget_reader\u001b[1;34m(uri, format, mode, **kwargs)\u001b[0m\n\u001b[0;32m    179\u001b[0m \u001b[38;5;28;01mif\u001b[39;00m \u001b[38;5;28mformat\u001b[39m \u001b[38;5;129;01mis\u001b[39;00m \u001b[38;5;28;01mNone\u001b[39;00m:\n\u001b[0;32m    180\u001b[0m     modename \u001b[38;5;241m=\u001b[39m MODENAMES\u001b[38;5;241m.\u001b[39mget(mode, mode)\n\u001b[1;32m--> 181\u001b[0m     \u001b[38;5;28;01mraise\u001b[39;00m \u001b[38;5;167;01mValueError\u001b[39;00m(\n\u001b[0;32m    182\u001b[0m         \u001b[38;5;124m\"\u001b[39m\u001b[38;5;124mCould not find a format to read the specified file in \u001b[39m\u001b[38;5;132;01m%s\u001b[39;00m\u001b[38;5;124m mode\u001b[39m\u001b[38;5;124m\"\u001b[39m \u001b[38;5;241m%\u001b[39m modename\n\u001b[0;32m    183\u001b[0m     )\n\u001b[0;32m    185\u001b[0m \u001b[38;5;66;03m# Return its reader object\u001b[39;00m\n\u001b[0;32m    186\u001b[0m \u001b[38;5;28;01mreturn\u001b[39;00m \u001b[38;5;28mformat\u001b[39m\u001b[38;5;241m.\u001b[39mget_reader(request)\n",
      "\u001b[1;31mValueError\u001b[0m: Could not find a format to read the specified file in multi-image mode"
     ]
    }
   ],
   "source": [
    "import cv2\n",
    "import imageio\n",
    "\n",
    "\n",
    "H = 584\n",
    "W = 565\n",
    "size = (W, H)\n",
    "\n",
    "for path in FILES:\n",
    "    \n",
    "    if '.gif' in path: # special treatment for gif. gif is multi-sequence.\n",
    "        gif = imageio.mimread(path)\n",
    "        nums = len(gif)\n",
    "        # convert form RGB to BGR \n",
    "        imgs = [cv2.cvtColor(img, cv2.COLOR_RGB2BGR) for img in gif]\n",
    "        im = imgs[0]\n",
    "    elif '.tif' in path:\n",
    "        im = cv2.imread(path, cv2.IMREAD_ANYDEPTH | cv2.IMREAD_UNCHANGED)\n",
    "        #im = rasterio.open(path)\n",
    "    else:\n",
    "        im = cv2.imread(path)\n",
    "    \n",
    "    if im is None:\n",
    "        print(path)\n",
    "        \n",
    "    if 'label' in path: # the masks need to be 1 channel\n",
    "        im = cv2.cvtColor(im, cv2.COLOR_BGR2GRAY) \n",
    "        im.dtype='uint8' # actually should be binary\n",
    "    \n",
    "    # OH, OW, _ = image.shape # H, W, C\n",
    "    # keep_aspect_size = (round(H*OW/OH), H)\n",
    "    im = cv2.resize(im, size)\n",
    "    cv2.imwrite(path +'.jpg', im) "
   ]
  },
  {
   "cell_type": "code",
   "execution_count": 39,
   "id": "e4ae5740",
   "metadata": {},
   "outputs": [
    {
     "ename": "FileNotFoundError",
     "evalue": "[WinError 2] The system cannot find the file specified: 'fundus/ALL/test_data/01_test.tif'",
     "output_type": "error",
     "traceback": [
      "\u001b[1;31m---------------------------------------------------------------------------\u001b[0m",
      "\u001b[1;31mFileNotFoundError\u001b[0m                         Traceback (most recent call last)",
      "Input \u001b[1;32mIn [39]\u001b[0m, in \u001b[0;36m<cell line: 3>\u001b[1;34m()\u001b[0m\n\u001b[0;32m      1\u001b[0m \u001b[38;5;28;01mimport\u001b[39;00m \u001b[38;5;21;01mos\u001b[39;00m\n\u001b[0;32m      3\u001b[0m \u001b[38;5;28;01mfor\u001b[39;00m path \u001b[38;5;129;01min\u001b[39;00m FILES:\n\u001b[1;32m----> 4\u001b[0m     \u001b[43mos\u001b[49m\u001b[38;5;241;43m.\u001b[39;49m\u001b[43mremove\u001b[49m\u001b[43m(\u001b[49m\u001b[43mpath\u001b[49m\u001b[43m)\u001b[49m\n",
      "\u001b[1;31mFileNotFoundError\u001b[0m: [WinError 2] The system cannot find the file specified: 'fundus/ALL/test_data/01_test.tif'"
     ]
    }
   ],
   "source": [
    "import os\n",
    "\n",
    "for path in FILES:\n",
    "    os.remove(path)"
   ]
  },
  {
   "cell_type": "code",
   "execution_count": null,
   "id": "1fa77c46",
   "metadata": {},
   "outputs": [],
   "source": []
  }
 ],
 "metadata": {
  "kernelspec": {
   "display_name": "Python 3 (ipykernel)",
   "language": "python",
   "name": "python3"
  },
  "language_info": {
   "codemirror_mode": {
    "name": "ipython",
    "version": 3
   },
   "file_extension": ".py",
   "mimetype": "text/x-python",
   "name": "python",
   "nbconvert_exporter": "python",
   "pygments_lexer": "ipython3",
   "version": "3.9.12"
  }
 },
 "nbformat": 4,
 "nbformat_minor": 5
}
