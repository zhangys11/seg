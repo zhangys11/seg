{
 "cells": [
  {
   "cell_type": "code",
   "execution_count": null,
   "id": "fbad54c8",
   "metadata": {},
   "outputs": [],
   "source": [
    "import os \n",
    "# os.system('python train.py')\n",
    "\n",
    "%run train.py"
   ]
  },
  {
   "cell_type": "code",
   "execution_count": null,
   "id": "97850958",
   "metadata": {},
   "outputs": [],
   "source": [
    "# os.system('python test.py')\n",
    "\n",
    "%run test.py"
   ]
  }
 ],
 "metadata": {
  "kernelspec": {
   "display_name": "Python 3 (ipykernel)",
   "language": "python",
   "name": "python3"
  },
  "language_info": {
   "codemirror_mode": {
    "name": "ipython",
    "version": 3
   },
   "file_extension": ".py",
   "mimetype": "text/x-python",
   "name": "python",
   "nbconvert_exporter": "python",
   "pygments_lexer": "ipython3",
   "version": "3.9.12"
  }
 },
 "nbformat": 4,
 "nbformat_minor": 5
}
